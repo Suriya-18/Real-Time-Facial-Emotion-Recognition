{
 "cells": [
  {
   "cell_type": "code",
   "execution_count": 1,
   "id": "93e0435f-858f-4b13-a6f8-92733805903e",
   "metadata": {},
   "outputs": [],
   "source": [
    "from tensorflow.keras.utils import to_categorical\n",
    "from keras_preprocessing.image import load_img\n",
    "from tensorflow.keras.models import Sequential\n",
    "from tensorflow.keras.layers import Dense, Conv2D, Dropout, Flatten, MaxPooling2D\n",
    "import os\n",
    "import pandas as pd\n",
    "import numpy as np"
   ]
  },
  {
   "cell_type": "code",
   "execution_count": 2,
   "id": "e6e81ca2-1dee-4f40-bb11-273779cb49fe",
   "metadata": {},
   "outputs": [],
   "source": [
    "TRAIN_DIR = r'C:\\Face detection\\archive (8)\\images\\images\\train'\n",
    "TEST_DIR = r'C:\\Face detection\\archive (8)\\images\\images\\test'"
   ]
  },
  {
   "cell_type": "code",
   "execution_count": 3,
   "id": "bd7729c5-0eb8-4082-9cc4-38a64b98a639",
   "metadata": {},
   "outputs": [],
   "source": [
    "def createdataframe(dir):\n",
    "    image_paths = []\n",
    "    labels = []\n",
    "    for label in os.listdir(dir):\n",
    "        for imagename in os.listdir(os.path.join(dir, label)):\n",
    "            image_paths.append(os.path.join(dir, label, imagename))\n",
    "            labels.append(label)\n",
    "        print(label, \"completed\")\n",
    "    return image_paths, labels"
   ]
  },
  {
   "cell_type": "code",
   "execution_count": 4,
   "id": "c90d77ca-d712-49c8-9f5e-a95b381d62f6",
   "metadata": {},
   "outputs": [
    {
     "name": "stdout",
     "output_type": "stream",
     "text": [
      "angry completed\n",
      "disgust completed\n",
      "fear completed\n",
      "happy completed\n",
      "neutral completed\n",
      "sad completed\n",
      "surprise completed\n",
      "                                                   image     label\n",
      "0      C:\\Face detection\\archive (8)\\images\\images\\tr...     angry\n",
      "1      C:\\Face detection\\archive (8)\\images\\images\\tr...     angry\n",
      "2      C:\\Face detection\\archive (8)\\images\\images\\tr...     angry\n",
      "3      C:\\Face detection\\archive (8)\\images\\images\\tr...     angry\n",
      "4      C:\\Face detection\\archive (8)\\images\\images\\tr...     angry\n",
      "...                                                  ...       ...\n",
      "28816  C:\\Face detection\\archive (8)\\images\\images\\tr...  surprise\n",
      "28817  C:\\Face detection\\archive (8)\\images\\images\\tr...  surprise\n",
      "28818  C:\\Face detection\\archive (8)\\images\\images\\tr...  surprise\n",
      "28819  C:\\Face detection\\archive (8)\\images\\images\\tr...  surprise\n",
      "28820  C:\\Face detection\\archive (8)\\images\\images\\tr...  surprise\n",
      "\n",
      "[28821 rows x 2 columns]\n"
     ]
    }
   ],
   "source": [
    "train = pd.DataFrame()\n",
    "train['image'], train['label'] = createdataframe(TRAIN_DIR)\n",
    "print(train)"
   ]
  },
  {
   "cell_type": "code",
   "execution_count": 5,
   "id": "2fe2a196-434e-4bd3-be1e-3f9349c119c6",
   "metadata": {},
   "outputs": [
    {
     "name": "stdout",
     "output_type": "stream",
     "text": [
      "angry completed\n",
      "disgust completed\n",
      "fear completed\n",
      "happy completed\n",
      "neutral completed\n",
      "sad completed\n",
      "surprise completed\n",
      "                                                  image     label\n",
      "0     C:\\Face detection\\archive (8)\\images\\images\\te...     angry\n",
      "1     C:\\Face detection\\archive (8)\\images\\images\\te...     angry\n",
      "2     C:\\Face detection\\archive (8)\\images\\images\\te...     angry\n",
      "3     C:\\Face detection\\archive (8)\\images\\images\\te...     angry\n",
      "4     C:\\Face detection\\archive (8)\\images\\images\\te...     angry\n",
      "...                                                 ...       ...\n",
      "7061  C:\\Face detection\\archive (8)\\images\\images\\te...  surprise\n",
      "7062  C:\\Face detection\\archive (8)\\images\\images\\te...  surprise\n",
      "7063  C:\\Face detection\\archive (8)\\images\\images\\te...  surprise\n",
      "7064  C:\\Face detection\\archive (8)\\images\\images\\te...  surprise\n",
      "7065  C:\\Face detection\\archive (8)\\images\\images\\te...  surprise\n",
      "\n",
      "[7066 rows x 2 columns]\n"
     ]
    }
   ],
   "source": [
    "test = pd.DataFrame()\n",
    "test['image'], test['label'] = createdataframe(TEST_DIR)\n",
    "print(test)"
   ]
  },
  {
   "cell_type": "code",
   "execution_count": 6,
   "id": "24035120-9ae6-4965-a771-354bd2a6335b",
   "metadata": {},
   "outputs": [],
   "source": [
    "from tqdm.notebook import tqdm"
   ]
  },
  {
   "cell_type": "code",
   "execution_count": 7,
   "id": "99fc6215-ca4c-47d7-9692-442786f0d7df",
   "metadata": {},
   "outputs": [],
   "source": [
    "def extract_features(images):\n",
    "    features = []\n",
    "    for image in tqdm(images):\n",
    "        img = load_img(image, grayscale=True)\n",
    "        img = np.array(img)\n",
    "        features.append(img)\n",
    "    features = np.array(features)\n",
    "    features = features.reshape(len(features), 48, 48, 1)\n",
    "    return features"
   ]
  },
  {
   "cell_type": "code",
   "execution_count": 8,
   "id": "b6e9b83c-9872-4ea4-85aa-6b53c97c739c",
   "metadata": {},
   "outputs": [
    {
     "data": {
      "application/vnd.jupyter.widget-view+json": {
       "model_id": "e830d04b96e846edb3f5cb519dcbb88b",
       "version_major": 2,
       "version_minor": 0
      },
      "text/plain": [
       "  0%|          | 0/28821 [00:00<?, ?it/s]"
      ]
     },
     "metadata": {},
     "output_type": "display_data"
    },
    {
     "name": "stderr",
     "output_type": "stream",
     "text": [
      "C:\\Users\\deepa\\anaconda3\\envs\\tf-gpu\\lib\\site-packages\\keras_preprocessing\\image\\utils.py:107: UserWarning: grayscale is deprecated. Please use color_mode = \"grayscale\"\n",
      "  warnings.warn('grayscale is deprecated. Please use '\n"
     ]
    },
    {
     "data": {
      "application/vnd.jupyter.widget-view+json": {
       "model_id": "5e8be7a5ca4d42028476cbd9c5736aca",
       "version_major": 2,
       "version_minor": 0
      },
      "text/plain": [
       "  0%|          | 0/7066 [00:00<?, ?it/s]"
      ]
     },
     "metadata": {},
     "output_type": "display_data"
    }
   ],
   "source": [
    "train_features = extract_features(train['image'])\n",
    "test_features = extract_features(test['image'])"
   ]
  },
  {
   "cell_type": "code",
   "execution_count": 9,
   "id": "0918145e-26e6-4f35-9c9f-65d85a53741f",
   "metadata": {},
   "outputs": [],
   "source": [
    "x_train = train_features / 255.0\n",
    "x_test = test_features / 255.0"
   ]
  },
  {
   "cell_type": "code",
   "execution_count": 10,
   "id": "7eaa897b-924e-465f-8884-88712bc4370b",
   "metadata": {},
   "outputs": [],
   "source": [
    "from sklearn.preprocessing import LabelEncoder\n",
    "le = LabelEncoder()\n",
    "le.fit(train['label'])\n",
    "y_train = le.transform(train['label'])\n",
    "y_test = le.transform(test['label'])\n",
    "y_train = to_categorical(y_train, num_classes=7)\n",
    "y_test = to_categorical(y_test, num_classes=7)"
   ]
  },
  {
   "cell_type": "code",
   "execution_count": 11,
   "id": "7a39bc9b-ed4c-4174-ab86-d8f13829080f",
   "metadata": {},
   "outputs": [],
   "source": [
    "# sequential model\n",
    "model = Sequential()\n",
    "\n",
    "# convolutional layers\n",
    "model.add(Conv2D(128, kernel_size=(3,3), activation='relu', input_shape=(48,48,1)))\n",
    "model.add(MaxPooling2D(pool_size=(2,2)))\n",
    "model.add(Dropout(0.4))\n",
    "\n",
    "model.add(Conv2D(256, kernel_size=(3,3), activation='relu'))\n",
    "model.add(MaxPooling2D(pool_size=(2,2)))\n",
    "model.add(Dropout(0.4))\n",
    "\n",
    "model.add(Conv2D(512, kernel_size=(3,3), activation='relu'))\n",
    "model.add(MaxPooling2D(pool_size=(2,2)))\n",
    "model.add(Dropout(0.4))\n",
    "\n",
    "model.add(Conv2D(512, kernel_size=(3,3), activation='relu'))\n",
    "model.add(MaxPooling2D(pool_size=(2,2)))\n",
    "model.add(Dropout(0.4))\n",
    "\n",
    "# flattening\n",
    "model.add(Flatten())\n",
    "\n",
    "# fully connected layers\n",
    "model.add(Dense(512, activation='relu'))\n",
    "model.add(Dropout(0.4))\n",
    "model.add(Dense(256, activation='relu'))\n",
    "model.add(Dropout(0.3))\n",
    "\n",
    "# output layer\n",
    "model.add(Dense(7, activation='softmax'))\n",
    "\n",
    "# model compilation\n",
    "model.compile(optimizer = 'adam', loss = 'categorical_crossentropy', metrics = 'accuracy' )"
   ]
  },
  {
   "cell_type": "code",
   "execution_count": 12,
   "id": "1d7456bf-637b-4b79-b4a8-81b61bd4c09a",
   "metadata": {},
   "outputs": [
    {
     "name": "stdout",
     "output_type": "stream",
     "text": [
      "Epoch 1/100\n",
      "226/226 [==============================] - 36s 71ms/step - loss: 1.8241 - accuracy: 0.2450 - val_loss: 1.8110 - val_accuracy: 0.2583\n",
      "Epoch 2/100\n",
      "226/226 [==============================] - 13s 56ms/step - loss: 1.8057 - accuracy: 0.2518 - val_loss: 1.7595 - val_accuracy: 0.2680\n",
      "Epoch 3/100\n",
      "226/226 [==============================] - 13s 56ms/step - loss: 1.7202 - accuracy: 0.2963 - val_loss: 1.6043 - val_accuracy: 0.3518\n",
      "Epoch 4/100\n",
      "226/226 [==============================] - 13s 56ms/step - loss: 1.5908 - accuracy: 0.3710 - val_loss: 1.4579 - val_accuracy: 0.4370\n",
      "Epoch 5/100\n",
      "226/226 [==============================] - 13s 57ms/step - loss: 1.4974 - accuracy: 0.4191 - val_loss: 1.4006 - val_accuracy: 0.4567\n",
      "Epoch 6/100\n",
      "226/226 [==============================] - 13s 57ms/step - loss: 1.4378 - accuracy: 0.4428 - val_loss: 1.3005 - val_accuracy: 0.4950\n",
      "Epoch 7/100\n",
      "226/226 [==============================] - 13s 56ms/step - loss: 1.3933 - accuracy: 0.4631 - val_loss: 1.2919 - val_accuracy: 0.5093\n",
      "Epoch 8/100\n",
      "226/226 [==============================] - 13s 56ms/step - loss: 1.3615 - accuracy: 0.4768 - val_loss: 1.2516 - val_accuracy: 0.5190\n",
      "Epoch 9/100\n",
      "226/226 [==============================] - 13s 57ms/step - loss: 1.3388 - accuracy: 0.4840 - val_loss: 1.2225 - val_accuracy: 0.5333\n",
      "Epoch 10/100\n",
      "226/226 [==============================] - 13s 57ms/step - loss: 1.3086 - accuracy: 0.4997 - val_loss: 1.2069 - val_accuracy: 0.5408\n",
      "Epoch 11/100\n",
      "226/226 [==============================] - 13s 57ms/step - loss: 1.2880 - accuracy: 0.5086 - val_loss: 1.1949 - val_accuracy: 0.5473\n",
      "Epoch 12/100\n",
      "226/226 [==============================] - 13s 56ms/step - loss: 1.2650 - accuracy: 0.5151 - val_loss: 1.1786 - val_accuracy: 0.5517\n",
      "Epoch 13/100\n",
      "226/226 [==============================] - 13s 57ms/step - loss: 1.2506 - accuracy: 0.5258 - val_loss: 1.1606 - val_accuracy: 0.5562\n",
      "Epoch 14/100\n",
      "226/226 [==============================] - 13s 57ms/step - loss: 1.2360 - accuracy: 0.5276 - val_loss: 1.1550 - val_accuracy: 0.5644\n",
      "Epoch 15/100\n",
      "226/226 [==============================] - 13s 57ms/step - loss: 1.2179 - accuracy: 0.5364 - val_loss: 1.1433 - val_accuracy: 0.5665\n",
      "Epoch 16/100\n",
      "226/226 [==============================] - 13s 57ms/step - loss: 1.2083 - accuracy: 0.5385 - val_loss: 1.1387 - val_accuracy: 0.5684\n",
      "Epoch 17/100\n",
      "226/226 [==============================] - 13s 56ms/step - loss: 1.1901 - accuracy: 0.5456 - val_loss: 1.1143 - val_accuracy: 0.5777\n",
      "Epoch 18/100\n",
      "226/226 [==============================] - 13s 56ms/step - loss: 1.1796 - accuracy: 0.5530 - val_loss: 1.1108 - val_accuracy: 0.5773\n",
      "Epoch 19/100\n",
      "226/226 [==============================] - 13s 57ms/step - loss: 1.1648 - accuracy: 0.5562 - val_loss: 1.0999 - val_accuracy: 0.5826\n",
      "Epoch 20/100\n",
      "226/226 [==============================] - 13s 57ms/step - loss: 1.1557 - accuracy: 0.5613 - val_loss: 1.0976 - val_accuracy: 0.5849\n",
      "Epoch 21/100\n",
      "226/226 [==============================] - 13s 57ms/step - loss: 1.1451 - accuracy: 0.5655 - val_loss: 1.0979 - val_accuracy: 0.5834\n",
      "Epoch 22/100\n",
      "226/226 [==============================] - 13s 56ms/step - loss: 1.1381 - accuracy: 0.5638 - val_loss: 1.0899 - val_accuracy: 0.5903\n",
      "Epoch 23/100\n",
      "226/226 [==============================] - 13s 57ms/step - loss: 1.1227 - accuracy: 0.5747 - val_loss: 1.0808 - val_accuracy: 0.5933\n",
      "Epoch 24/100\n",
      "226/226 [==============================] - 13s 57ms/step - loss: 1.1109 - accuracy: 0.5769 - val_loss: 1.0730 - val_accuracy: 0.5950\n",
      "Epoch 25/100\n",
      "226/226 [==============================] - 13s 56ms/step - loss: 1.1104 - accuracy: 0.5815 - val_loss: 1.0783 - val_accuracy: 0.5969\n",
      "Epoch 26/100\n",
      "226/226 [==============================] - 13s 56ms/step - loss: 1.0960 - accuracy: 0.5854 - val_loss: 1.0741 - val_accuracy: 0.6009\n",
      "Epoch 27/100\n",
      "226/226 [==============================] - 13s 56ms/step - loss: 1.0928 - accuracy: 0.5873 - val_loss: 1.0734 - val_accuracy: 0.5944\n",
      "Epoch 28/100\n",
      "226/226 [==============================] - 13s 57ms/step - loss: 1.0847 - accuracy: 0.5927 - val_loss: 1.0652 - val_accuracy: 0.5981\n",
      "Epoch 29/100\n",
      "226/226 [==============================] - 13s 58ms/step - loss: 1.0793 - accuracy: 0.5923 - val_loss: 1.0597 - val_accuracy: 0.6026\n",
      "Epoch 30/100\n",
      "226/226 [==============================] - 13s 57ms/step - loss: 1.0729 - accuracy: 0.5932 - val_loss: 1.0692 - val_accuracy: 0.5944\n",
      "Epoch 31/100\n",
      "226/226 [==============================] - 13s 57ms/step - loss: 1.0710 - accuracy: 0.5937 - val_loss: 1.0715 - val_accuracy: 0.5961\n",
      "Epoch 32/100\n",
      "226/226 [==============================] - 13s 57ms/step - loss: 1.0560 - accuracy: 0.5997 - val_loss: 1.0596 - val_accuracy: 0.6046\n",
      "Epoch 33/100\n",
      "226/226 [==============================] - 13s 56ms/step - loss: 1.0509 - accuracy: 0.6054 - val_loss: 1.0667 - val_accuracy: 0.6060\n",
      "Epoch 34/100\n",
      "226/226 [==============================] - 13s 57ms/step - loss: 1.0428 - accuracy: 0.6065 - val_loss: 1.0478 - val_accuracy: 0.6070\n",
      "Epoch 35/100\n",
      "226/226 [==============================] - 13s 57ms/step - loss: 1.0364 - accuracy: 0.6078 - val_loss: 1.0359 - val_accuracy: 0.6071\n",
      "Epoch 36/100\n",
      "226/226 [==============================] - 13s 57ms/step - loss: 1.0301 - accuracy: 0.6109 - val_loss: 1.0439 - val_accuracy: 0.6046\n",
      "Epoch 37/100\n",
      "226/226 [==============================] - 13s 57ms/step - loss: 1.0143 - accuracy: 0.6131 - val_loss: 1.0528 - val_accuracy: 0.6035\n",
      "Epoch 38/100\n",
      "226/226 [==============================] - 13s 56ms/step - loss: 1.0143 - accuracy: 0.6176 - val_loss: 1.0500 - val_accuracy: 0.6091\n",
      "Epoch 39/100\n",
      "226/226 [==============================] - 13s 57ms/step - loss: 1.0128 - accuracy: 0.6183 - val_loss: 1.0463 - val_accuracy: 0.6059\n",
      "Epoch 40/100\n",
      "226/226 [==============================] - 13s 56ms/step - loss: 1.0062 - accuracy: 0.6202 - val_loss: 1.0471 - val_accuracy: 0.6141\n",
      "Epoch 41/100\n",
      "226/226 [==============================] - 13s 56ms/step - loss: 0.9921 - accuracy: 0.6275 - val_loss: 1.0391 - val_accuracy: 0.6168\n",
      "Epoch 42/100\n",
      "226/226 [==============================] - 13s 56ms/step - loss: 0.9920 - accuracy: 0.6257 - val_loss: 1.0408 - val_accuracy: 0.6121\n",
      "Epoch 43/100\n",
      "226/226 [==============================] - 13s 57ms/step - loss: 0.9832 - accuracy: 0.6281 - val_loss: 1.0482 - val_accuracy: 0.6135\n",
      "Epoch 44/100\n",
      "226/226 [==============================] - 13s 56ms/step - loss: 0.9813 - accuracy: 0.6313 - val_loss: 1.0317 - val_accuracy: 0.6129\n",
      "Epoch 45/100\n",
      "226/226 [==============================] - 13s 57ms/step - loss: 0.9769 - accuracy: 0.6338 - val_loss: 1.0354 - val_accuracy: 0.6166\n",
      "Epoch 46/100\n",
      "226/226 [==============================] - 13s 57ms/step - loss: 0.9574 - accuracy: 0.6407 - val_loss: 1.0331 - val_accuracy: 0.6158\n",
      "Epoch 47/100\n",
      "226/226 [==============================] - 13s 56ms/step - loss: 0.9597 - accuracy: 0.6384 - val_loss: 1.0377 - val_accuracy: 0.6173\n",
      "Epoch 48/100\n",
      "226/226 [==============================] - 13s 56ms/step - loss: 0.9595 - accuracy: 0.6395 - val_loss: 1.0324 - val_accuracy: 0.6187\n",
      "Epoch 49/100\n",
      "226/226 [==============================] - 13s 56ms/step - loss: 0.9500 - accuracy: 0.6442 - val_loss: 1.0313 - val_accuracy: 0.6204\n",
      "Epoch 50/100\n",
      "226/226 [==============================] - 13s 56ms/step - loss: 0.9450 - accuracy: 0.6453 - val_loss: 1.0335 - val_accuracy: 0.6206\n",
      "Epoch 51/100\n",
      "226/226 [==============================] - 13s 57ms/step - loss: 0.9416 - accuracy: 0.6462 - val_loss: 1.0333 - val_accuracy: 0.6214\n",
      "Epoch 52/100\n",
      "226/226 [==============================] - 13s 56ms/step - loss: 0.9337 - accuracy: 0.6481 - val_loss: 1.0312 - val_accuracy: 0.6224\n",
      "Epoch 53/100\n",
      "226/226 [==============================] - 13s 56ms/step - loss: 0.9283 - accuracy: 0.6512 - val_loss: 1.0170 - val_accuracy: 0.6260\n",
      "Epoch 54/100\n",
      "226/226 [==============================] - 13s 56ms/step - loss: 0.9190 - accuracy: 0.6602 - val_loss: 1.0168 - val_accuracy: 0.6241\n",
      "Epoch 55/100\n",
      "226/226 [==============================] - 13s 56ms/step - loss: 0.9221 - accuracy: 0.6541 - val_loss: 1.0383 - val_accuracy: 0.6209\n",
      "Epoch 56/100\n",
      "226/226 [==============================] - 13s 57ms/step - loss: 0.9148 - accuracy: 0.6576 - val_loss: 1.0296 - val_accuracy: 0.6238\n",
      "Epoch 57/100\n",
      "226/226 [==============================] - 13s 57ms/step - loss: 0.9126 - accuracy: 0.6594 - val_loss: 1.0264 - val_accuracy: 0.6231\n",
      "Epoch 58/100\n",
      "226/226 [==============================] - 13s 56ms/step - loss: 0.8923 - accuracy: 0.6667 - val_loss: 1.0286 - val_accuracy: 0.6182\n",
      "Epoch 59/100\n",
      "226/226 [==============================] - 13s 56ms/step - loss: 0.8980 - accuracy: 0.6663 - val_loss: 1.0246 - val_accuracy: 0.6247\n",
      "Epoch 60/100\n",
      "226/226 [==============================] - 13s 56ms/step - loss: 0.9009 - accuracy: 0.6641 - val_loss: 1.0224 - val_accuracy: 0.6261\n",
      "Epoch 61/100\n",
      "226/226 [==============================] - 13s 56ms/step - loss: 0.8878 - accuracy: 0.6715 - val_loss: 1.0328 - val_accuracy: 0.6187\n",
      "Epoch 62/100\n",
      "226/226 [==============================] - 13s 56ms/step - loss: 0.8841 - accuracy: 0.6740 - val_loss: 1.0297 - val_accuracy: 0.6202\n",
      "Epoch 63/100\n",
      "226/226 [==============================] - 13s 56ms/step - loss: 0.8781 - accuracy: 0.6761 - val_loss: 1.0298 - val_accuracy: 0.6243\n",
      "Epoch 64/100\n",
      "226/226 [==============================] - 13s 56ms/step - loss: 0.8782 - accuracy: 0.6748 - val_loss: 1.0310 - val_accuracy: 0.6275\n",
      "Epoch 65/100\n",
      "226/226 [==============================] - 13s 56ms/step - loss: 0.8716 - accuracy: 0.6760 - val_loss: 1.0251 - val_accuracy: 0.6294\n",
      "Epoch 66/100\n",
      "226/226 [==============================] - 13s 57ms/step - loss: 0.8702 - accuracy: 0.6765 - val_loss: 1.0288 - val_accuracy: 0.6299\n",
      "Epoch 67/100\n",
      "226/226 [==============================] - 13s 57ms/step - loss: 0.8765 - accuracy: 0.6737 - val_loss: 1.0286 - val_accuracy: 0.6282\n",
      "Epoch 68/100\n",
      "226/226 [==============================] - 13s 57ms/step - loss: 0.8528 - accuracy: 0.6819 - val_loss: 1.0297 - val_accuracy: 0.6281\n",
      "Epoch 69/100\n",
      "226/226 [==============================] - 13s 57ms/step - loss: 0.8548 - accuracy: 0.6862 - val_loss: 1.0300 - val_accuracy: 0.6285\n",
      "Epoch 70/100\n",
      "226/226 [==============================] - 13s 56ms/step - loss: 0.8544 - accuracy: 0.6851 - val_loss: 1.0260 - val_accuracy: 0.6254\n",
      "Epoch 71/100\n",
      "226/226 [==============================] - 13s 56ms/step - loss: 0.8423 - accuracy: 0.6890 - val_loss: 1.0395 - val_accuracy: 0.6233\n",
      "Epoch 72/100\n",
      "226/226 [==============================] - 13s 56ms/step - loss: 0.8372 - accuracy: 0.6920 - val_loss: 1.0239 - val_accuracy: 0.6294\n",
      "Epoch 73/100\n",
      "226/226 [==============================] - 13s 57ms/step - loss: 0.8369 - accuracy: 0.6910 - val_loss: 1.0359 - val_accuracy: 0.6213\n",
      "Epoch 74/100\n",
      "226/226 [==============================] - 13s 57ms/step - loss: 0.8350 - accuracy: 0.6923 - val_loss: 1.0320 - val_accuracy: 0.6282\n",
      "Epoch 75/100\n",
      "226/226 [==============================] - 13s 57ms/step - loss: 0.8307 - accuracy: 0.6940 - val_loss: 1.0396 - val_accuracy: 0.6268\n",
      "Epoch 76/100\n",
      "226/226 [==============================] - 13s 57ms/step - loss: 0.8276 - accuracy: 0.6938 - val_loss: 1.0219 - val_accuracy: 0.6311\n",
      "Epoch 77/100\n",
      "226/226 [==============================] - 13s 57ms/step - loss: 0.8166 - accuracy: 0.6994 - val_loss: 1.0322 - val_accuracy: 0.6230\n",
      "Epoch 78/100\n",
      "226/226 [==============================] - 13s 57ms/step - loss: 0.8041 - accuracy: 0.7024 - val_loss: 1.0305 - val_accuracy: 0.6311\n",
      "Epoch 79/100\n",
      "226/226 [==============================] - 13s 57ms/step - loss: 0.8164 - accuracy: 0.6997 - val_loss: 1.0339 - val_accuracy: 0.6319\n",
      "Epoch 80/100\n",
      "226/226 [==============================] - 13s 57ms/step - loss: 0.8065 - accuracy: 0.7034 - val_loss: 1.0241 - val_accuracy: 0.6313\n",
      "Epoch 81/100\n",
      "226/226 [==============================] - 13s 56ms/step - loss: 0.8093 - accuracy: 0.7036 - val_loss: 1.0291 - val_accuracy: 0.6268\n",
      "Epoch 82/100\n",
      "226/226 [==============================] - 13s 57ms/step - loss: 0.8004 - accuracy: 0.7054 - val_loss: 1.0249 - val_accuracy: 0.6281\n",
      "Epoch 83/100\n",
      "226/226 [==============================] - 13s 56ms/step - loss: 0.7960 - accuracy: 0.7084 - val_loss: 1.0136 - val_accuracy: 0.6326\n",
      "Epoch 84/100\n",
      "226/226 [==============================] - 13s 57ms/step - loss: 0.7950 - accuracy: 0.7077 - val_loss: 1.0287 - val_accuracy: 0.6305\n",
      "Epoch 85/100\n",
      "226/226 [==============================] - 13s 56ms/step - loss: 0.7848 - accuracy: 0.7123 - val_loss: 1.0183 - val_accuracy: 0.6318\n",
      "Epoch 86/100\n",
      "226/226 [==============================] - 13s 58ms/step - loss: 0.7773 - accuracy: 0.7158 - val_loss: 1.0305 - val_accuracy: 0.6308\n",
      "Epoch 87/100\n",
      "226/226 [==============================] - 13s 57ms/step - loss: 0.7783 - accuracy: 0.7143 - val_loss: 1.0270 - val_accuracy: 0.6315\n",
      "Epoch 88/100\n",
      "226/226 [==============================] - 13s 57ms/step - loss: 0.7676 - accuracy: 0.7199 - val_loss: 1.0265 - val_accuracy: 0.6371\n",
      "Epoch 89/100\n",
      "226/226 [==============================] - 13s 57ms/step - loss: 0.7636 - accuracy: 0.7209 - val_loss: 1.0374 - val_accuracy: 0.6316\n",
      "Epoch 90/100\n",
      "226/226 [==============================] - 13s 56ms/step - loss: 0.7628 - accuracy: 0.7195 - val_loss: 1.0451 - val_accuracy: 0.6356\n",
      "Epoch 91/100\n",
      "226/226 [==============================] - 13s 56ms/step - loss: 0.7609 - accuracy: 0.7208 - val_loss: 1.0318 - val_accuracy: 0.6371\n",
      "Epoch 92/100\n",
      "226/226 [==============================] - 13s 56ms/step - loss: 0.7658 - accuracy: 0.7232 - val_loss: 1.0441 - val_accuracy: 0.6320\n",
      "Epoch 93/100\n",
      "226/226 [==============================] - 13s 56ms/step - loss: 0.7513 - accuracy: 0.7255 - val_loss: 1.0448 - val_accuracy: 0.6315\n",
      "Epoch 94/100\n",
      "226/226 [==============================] - 13s 57ms/step - loss: 0.7583 - accuracy: 0.7254 - val_loss: 1.0381 - val_accuracy: 0.6329\n",
      "Epoch 95/100\n",
      "226/226 [==============================] - 13s 57ms/step - loss: 0.7386 - accuracy: 0.7299 - val_loss: 1.0608 - val_accuracy: 0.6309\n",
      "Epoch 96/100\n",
      "226/226 [==============================] - 13s 56ms/step - loss: 0.7445 - accuracy: 0.7277 - val_loss: 1.0158 - val_accuracy: 0.6347\n",
      "Epoch 97/100\n",
      "226/226 [==============================] - 13s 57ms/step - loss: 0.7336 - accuracy: 0.7342 - val_loss: 1.0420 - val_accuracy: 0.6350\n",
      "Epoch 98/100\n",
      "226/226 [==============================] - 13s 57ms/step - loss: 0.7360 - accuracy: 0.7322 - val_loss: 1.0258 - val_accuracy: 0.6320\n",
      "Epoch 99/100\n",
      "226/226 [==============================] - 13s 57ms/step - loss: 0.7388 - accuracy: 0.7348 - val_loss: 1.0345 - val_accuracy: 0.6336\n",
      "Epoch 100/100\n",
      "226/226 [==============================] - 13s 57ms/step - loss: 0.7326 - accuracy: 0.7362 - val_loss: 1.0371 - val_accuracy: 0.6332\n"
     ]
    },
    {
     "data": {
      "text/plain": [
       "<keras.callbacks.History at 0x20f6eaa48e0>"
      ]
     },
     "execution_count": 12,
     "metadata": {},
     "output_type": "execute_result"
    }
   ],
   "source": [
    "model.fit(x=x_train, y=y_train, batch_size=128, epochs=100, validation_data=(x_test, y_test))"
   ]
  },
  {
   "cell_type": "code",
   "execution_count": 13,
   "id": "563bf984-b6ad-48a7-b97b-305db3b23543",
   "metadata": {},
   "outputs": [],
   "source": [
    "model_json = model.to_json()\n",
    "with open(\"emotiondetector.json\", 'w') as json_file:\n",
    "    json_file.write(model_json)\n",
    "model.save(\"emotiondetector.h5\")\n",
    "\n",
    "\n"
   ]
  },
  {
   "cell_type": "code",
   "execution_count": 14,
   "id": "00f01cd7-ebc2-4a75-8f08-fccaf75dfdef",
   "metadata": {},
   "outputs": [],
   "source": [
    "from keras.models import model_from_json\n",
    "json_file = open(\"emotiondetector.json\", \"r\")\n",
    "model_json = json_file.read()\n",
    "json_file.close()\n",
    "model = model_from_json(model_json)\n",
    "model.load_weights(\"emotiondetector.h5\")"
   ]
  },
  {
   "cell_type": "code",
   "execution_count": 15,
   "id": "10af7e4d-fcc6-452d-89f4-96263448e979",
   "metadata": {},
   "outputs": [],
   "source": [
    "label = ['angry', 'disgust', 'fear', 'happy', 'neutral', 'sad', 'surprise']\n",
    "def ef(image):\n",
    "    img = load_img(image, grayscale=True)\n",
    "    feature = np.array(img)\n",
    "    feature = feature.reshape(1, 48, 48, 1)\n",
    "    return feature / 255.0"
   ]
  },
  {
   "cell_type": "code",
   "execution_count": 17,
   "id": "430ac39e-d590-4184-9243-3c5e8ae6cb5a",
   "metadata": {},
   "outputs": [
    {
     "name": "stdout",
     "output_type": "stream",
     "text": [
      "original image is of sad\n",
      "model prediction is  sad\n"
     ]
    }
   ],
   "source": [
    "image = r'C:\\Face detection\\archive (8)\\images\\images\\train\\sad\\42.jpg'\n",
    "print(\"original image is of sad\")\n",
    "img = ef(image)\n",
    "pred = model.predict(img)\n",
    "pred_label = label[pred.argmax()]\n",
    "print(\"model prediction is \", pred_label)"
   ]
  },
  {
   "cell_type": "code",
   "execution_count": 18,
   "id": "e702959d-d70a-4e3a-9957-9f650f21b320",
   "metadata": {},
   "outputs": [],
   "source": [
    "import matplotlib.pyplot as plt\n",
    "%matplotlib inline"
   ]
  },
  {
   "cell_type": "code",
   "execution_count": 19,
   "id": "dca277b0-9978-40fa-98f9-1fc59ba56140",
   "metadata": {
    "scrolled": true
   },
   "outputs": [
    {
     "name": "stdout",
     "output_type": "stream",
     "text": [
      "original image is of sad\n",
      "model prediction is  sad\n"
     ]
    },
    {
     "name": "stderr",
     "output_type": "stream",
     "text": [
      "C:\\Users\\deepa\\anaconda3\\envs\\tf-gpu\\lib\\site-packages\\keras_preprocessing\\image\\utils.py:107: UserWarning: grayscale is deprecated. Please use color_mode = \"grayscale\"\n",
      "  warnings.warn('grayscale is deprecated. Please use '\n"
     ]
    },
    {
     "data": {
      "text/plain": [
       "<matplotlib.image.AxesImage at 0x20f7de07bb0>"
      ]
     },
     "execution_count": 19,
     "metadata": {},
     "output_type": "execute_result"
    },
    {
     "data": {
      "image/png": "[encoded data removed]",
      "text/plain": [
       "<Figure size 640x480 with 1 Axes>"
      ]
     },
     "metadata": {},
     "output_type": "display_data"
    }
   ],
   "source": [
    "image = r'C:\\Face detection\\archive (8)\\images\\images\\train\\sad\\42.jpg'\n",
    "print(\"original image is of sad\")\n",
    "img = ef(image)\n",
    "pred = model.predict(img)\n",
    "pred_label = label[pred.argmax()]\n",
    "print(\"model prediction is \", pred_label)\n",
    "plt.imshow(img.reshape(48, 48), cmap='gray')"
   ]
  },
  {
   "cell_type": "code",
   "execution_count": 21,
   "id": "84ed4eb7-5ff0-46a0-8068-36890bb48a00",
   "metadata": {},
   "outputs": [
    {
     "name": "stdout",
     "output_type": "stream",
     "text": [
      "original image is of angry\n",
      "model prediction is  angry\n"
     ]
    }
   ],
   "source": [
    "image = r'C:\\Face detection\\archive (8)\\images\\train\\angry\\263.jpg'\n",
    "print(\"original image is of angry\")\n",
    "img = ef(image)\n",
    "pred = model.predict(img)\n",
    "pred_label = label[pred.argmax()]\n",
    "print(\"model prediction is \", pred_label)"
   ]
  },
  {
   "cell_type": "code",
   "execution_count": 22,
   "id": "2b74bd96-c0cd-43fc-a9d9-7263a027f33d",
   "metadata": {},
   "outputs": [
    {
     "name": "stdout",
     "output_type": "stream",
     "text": [
      "original image is of angry\n",
      "model prediction is  angry\n"
     ]
    },
    {
     "data": {
      "text/plain": [
       "<matplotlib.image.AxesImage at 0x210896227c0>"
      ]
     },
     "execution_count": 22,
     "metadata": {},
     "output_type": "execute_result"
    },
    {
     "data": {
      "image/png": "[encoded data removed]",
      "text/plain": [
       "<Figure size 640x480 with 1 Axes>"
      ]
     },
     "metadata": {},
     "output_type": "display_data"
    }
   ],
   "source": [
    "image = r'C:\\Face detection\\archive (8)\\images\\train\\angry\\263.jpg'\n",
    "print(\"original image is of angry\")\n",
    "img = ef(image)\n",
    "pred = model.predict(img)\n",
    "pred_label = label[pred.argmax()]\n",
    "print(\"model prediction is \", pred_label)\n",
    "plt.imshow(img.reshape(48, 48), cmap='gray')"
   ]
  },
  {
   "cell_type": "code",
   "execution_count": 24,
   "id": "2f0e5707-9b86-43cf-9062-b351f83f7824",
   "metadata": {},
   "outputs": [
    {
     "name": "stdout",
     "output_type": "stream",
     "text": [
      "original image is of happy\n",
      "model prediction is  happy\n"
     ]
    }
   ],
   "source": [
    "image = r'C:\\Face detection\\archive (8)\\images\\images\\train\\happy\\324.jpg'\n",
    "print(\"original image is of happy\")\n",
    "img = ef(image)\n",
    "pred = model.predict(img)\n",
    "pred_label = label[pred.argmax()]\n",
    "print(\"model prediction is \", pred_label)"
   ]
  },
  {
   "cell_type": "code",
   "execution_count": 25,
   "id": "e49070d8-faca-428a-8a67-75ebc2e66bdd",
   "metadata": {},
   "outputs": [
    {
     "name": "stdout",
     "output_type": "stream",
     "text": [
      "original image is of happy\n",
      "model prediction is  happy\n"
     ]
    },
    {
     "data": {
      "text/plain": [
       "<matplotlib.image.AxesImage at 0x210896a1790>"
      ]
     },
     "execution_count": 25,
     "metadata": {},
     "output_type": "execute_result"
    },
    {
     "data": {
      "image/png": "[encoded data removed]",
      "text/plain": [
       "<Figure size 640x480 with 1 Axes>"
      ]
     },
     "metadata": {},
     "output_type": "display_data"
    }
   ],
   "source": [
    "image = r'C:\\Face detection\\archive (8)\\images\\images\\train\\happy\\324.jpg'\n",
    "print(\"original image is of happy\")\n",
    "img = ef(image)\n",
    "pred = model.predict(img)\n",
    "pred_label = label[pred.argmax()]\n",
    "print(\"model prediction is \", pred_label)\n",
    "plt.imshow(img.reshape(48, 48), cmap='gray')"
   ]
  },
  {
   "cell_type": "code",
   "execution_count": 26,
   "id": "06c077a4-8c46-4960-ae58-0a686d1620d7",
   "metadata": {},
   "outputs": [
    {
     "name": "stdout",
     "output_type": "stream",
     "text": [
      "original image is of surprise\n",
      "model prediction is  surprise\n"
     ]
    }
   ],
   "source": [
    "\n",
    "image = r'C:\\Face detection\\archive (8)\\images\\images\\train\\surprise\\362.jpg'\n",
    "print(\"original image is of surprise\")\n",
    "img = ef(image)\n",
    "pred = model.predict(img)\n",
    "pred_label = label[pred.argmax()]\n",
    "print(\"model prediction is \", pred_label)"
   ]
  },
  {
   "cell_type": "code",
   "execution_count": 27,
   "id": "c2ee53ed-ebdb-4448-9566-6a7d9afe4394",
   "metadata": {},
   "outputs": [
    {
     "name": "stdout",
     "output_type": "stream",
     "text": [
      "original image is of surprise\n",
      "model prediction is  surprise\n"
     ]
    },
    {
     "data": {
      "text/plain": [
       "<matplotlib.image.AxesImage at 0x21089dab670>"
      ]
     },
     "execution_count": 27,
     "metadata": {},
     "output_type": "execute_result"
    },
    {
     "data": {
      "image/png": "[encoded data removed]",
      "text/plain": [
       "<Figure size 640x480 with 1 Axes>"
      ]
     },
     "metadata": {},
     "output_type": "display_data"
    }
   ],
   "source": [
    "image = r'C:\\Face detection\\archive (8)\\images\\images\\train\\surprise\\362.jpg'\n",
    "print(\"original image is of surprise\")\n",
    "img = ef(image)\n",
    "pred = model.predict(img)\n",
    "pred_label = label[pred.argmax()]\n",
    "print(\"model prediction is \", pred_label)\n",
    "plt.imshow(img.reshape(48, 48), cmap='gray')"
   ]
  },
  {
   "cell_type": "code",
   "execution_count": 28,
   "id": "754d5060-1791-4ae9-8b65-b477801ae31a",
   "metadata": {},
   "outputs": [
    {
     "name": "stdout",
     "output_type": "stream",
     "text": [
      "original image is of fear\n",
      "model prediction is  fear\n"
     ]
    }
   ],
   "source": [
    "\n",
    "image = r\"C:\\Face detection\\archive (8)\\images\\images\\train\\fear\\599.jpg\"\n",
    "print(\"original image is of fear\")\n",
    "img = ef(image)\n",
    "pred = model.predict(img)\n",
    "pred_label = label[pred.argmax()]\n",
    "print(\"model prediction is \", pred_label)"
   ]
  },
  {
   "cell_type": "code",
   "execution_count": 29,
   "id": "2ef5b9ed-9430-4c2c-a474-e126190d2638",
   "metadata": {},
   "outputs": [
    {
     "name": "stdout",
     "output_type": "stream",
     "text": [
      "original image is of fear\n",
      "model prediction is  fear\n"
     ]
    },
    {
     "data": {
      "text/plain": [
       "<matplotlib.image.AxesImage at 0x2108d8724f0>"
      ]
     },
     "execution_count": 29,
     "metadata": {},
     "output_type": "execute_result"
    },
    {
     "data": {
      "image/png": "[encoded data removed]",
      "text/plain": [
       "<Figure size 640x480 with 1 Axes>"
      ]
     },
     "metadata": {},
     "output_type": "display_data"
    }
   ],
   "source": [
    "image = r\"C:\\Face detection\\archive (8)\\images\\images\\train\\fear\\599.jpg\"\n",
    "print(\"original image is of fear\")\n",
    "img = ef(image)\n",
    "pred = model.predict(img)\n",
    "pred_label = label[pred.argmax()]\n",
    "print(\"model prediction is \", pred_label)\n",
    "plt.imshow(img.reshape(48, 48), cmap='gray')"
   ]
  },
  {
   "cell_type": "code",
   "execution_count": 30,
   "id": "41ab4287-524e-4f95-a9c2-b5e9c4c6ebf1",
   "metadata": {},
   "outputs": [
    {
     "name": "stdout",
     "output_type": "stream",
     "text": [
      "original image is of neutral\n",
      "model prediction is  neutral\n"
     ]
    }
   ],
   "source": [
    "\n",
    "image = r\"C:\\Face detection\\archive (8)\\images\\images\\train\\neutral\\274.jpg\"\n",
    "print(\"original image is of neutral\")\n",
    "img = ef(image)\n",
    "pred = model.predict(img)\n",
    "pred_label = label[pred.argmax()]\n",
    "print(\"model prediction is \", pred_label)"
   ]
  },
  {
   "cell_type": "code",
   "execution_count": 31,
   "id": "710710fd-7a15-476c-b53c-5f2b6a28bd77",
   "metadata": {},
   "outputs": [
    {
     "name": "stdout",
     "output_type": "stream",
     "text": [
      "original image is of neutral\n",
      "model prediction is  neutral\n"
     ]
    },
    {
     "data": {
      "text/plain": [
       "<matplotlib.image.AxesImage at 0x2108f8665b0>"
      ]
     },
     "execution_count": 31,
     "metadata": {},
     "output_type": "execute_result"
    },
    {
     "data": {
      "image/png": "[encoded data removed]",
      "text/plain": [
       "<Figure size 640x480 with 1 Axes>"
      ]
     },
     "metadata": {},
     "output_type": "display_data"
    }
   ],
   "source": [
    "image = r\"C:\\Face detection\\archive (8)\\images\\images\\train\\neutral\\274.jpg\"\n",
    "print(\"original image is of neutral\")\n",
    "img = ef(image)\n",
    "pred = model.predict(img)\n",
    "pred_label = label[pred.argmax()]\n",
    "print(\"model prediction is \", pred_label)\n",
    "plt.imshow(img.reshape(48, 48), cmap='gray')"
   ]
  },
  {
   "cell_type": "code",
   "execution_count": 32,
   "id": "88be4d63-91a3-434e-a97a-446768801202",
   "metadata": {},
   "outputs": [
    {
     "name": "stdout",
     "output_type": "stream",
     "text": [
      "original image is of disgust\n",
      "model prediction is  disgust\n"
     ]
    }
   ],
   "source": [
    "image = r\"C:\\Face detection\\archive (8)\\images\\images\\train\\disgust\\5964.jpg\"\n",
    "print(\"original image is of disgust\")\n",
    "img = ef(image)\n",
    "pred = model.predict(img)\n",
    "pred_label = label[pred.argmax()]\n",
    "print(\"model prediction is \", pred_label)"
   ]
  },
  {
   "cell_type": "code",
   "execution_count": 33,
   "id": "b4df7a65-e0d3-496a-a814-407a7031683b",
   "metadata": {},
   "outputs": [
    {
     "name": "stdout",
     "output_type": "stream",
     "text": [
      "original image is of disgust\n",
      "model prediction is  disgust\n"
     ]
    },
    {
     "data": {
      "text/plain": [
       "<matplotlib.image.AxesImage at 0x21099ce1af0>"
      ]
     },
     "execution_count": 33,
     "metadata": {},
     "output_type": "execute_result"
    },
    {
     "data": {
      "image/png": "[encoded data removed]",
      "text/plain": [
       "<Figure size 640x480 with 1 Axes>"
      ]
     },
     "metadata": {},
     "output_type": "display_data"
    }
   ],
   "source": [
    "image = r\"C:\\Face detection\\archive (8)\\images\\images\\train\\disgust\\5964.jpg\"\n",
    "print(\"original image is of disgust\")\n",
    "img = ef(image)\n",
    "pred = model.predict(img)\n",
    "pred_label = label[pred.argmax()]\n",
    "print(\"model prediction is \", pred_label)\n",
    "plt.imshow(img.reshape(48, 48), cmap='gray')"
   ]
  },
  {
   "cell_type": "code",
   "execution_count": null,
   "id": "0ecae816-674d-4364-8a46-a4d98d43fb47",
   "metadata": {},
   "outputs": [],
   "source": []
  }
 ],
 "metadata": {
  "kernelspec": {
   "display_name": "Python 3 (ipykernel)",
   "language": "python",
   "name": "python3"
  },
  "language_info": {
   "codemirror_mode": {
    "name": "ipython",
    "version": 3
   },
   "file_extension": ".py",
   "mimetype": "text/x-python",
   "name": "python",
   "nbconvert_exporter": "python",
   "pygments_lexer": "ipython3",
   "version": "3.9.18"
  }
 },
 "nbformat": 4,
 "nbformat_minor": 5
}
